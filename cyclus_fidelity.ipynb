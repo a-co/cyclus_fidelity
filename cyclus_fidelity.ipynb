{
 "cells": [
  {
   "cell_type": "markdown",
   "metadata": {},
   "source": [
    "# Cyclus parameter fidelity assessment tool"
   ]
  },
  {
   "cell_type": "markdown",
   "metadata": {},
   "source": [
    "This tool is designed to help users understand the behavior of Cyclus archetypes."
   ]
  },
  {
   "cell_type": "code",
   "execution_count": 12,
   "metadata": {},
   "outputs": [],
   "source": [
    "import subprocess\n",
    "\n",
    "import cymetric as cym\n",
    "import pandas as pd\n",
    "import numpy as np\n",
    "import matplotlib.pyplot as plt\n",
    "plt.rcParams['figure.figsize'] = (40,24)\n",
    "\n",
    "from cymetric import graphs as cgr\n",
    "from cymetric import timeseries as tm\n",
    "from cymetric import filters as fl\n",
    "\n",
    "#import cyclus"
   ]
  },
  {
   "cell_type": "markdown",
   "metadata": {},
   "source": [
    "Enter two file paths to compare: \n",
    "(expand this later?)"
   ]
  },
  {
   "cell_type": "code",
   "execution_count": 13,
   "metadata": {},
   "outputs": [],
   "source": [
    "infiles = [\"candu_one_day.py\", \"candu_one_month.py\"]"
   ]
  },
  {
   "cell_type": "code",
   "execution_count": 19,
   "metadata": {},
   "outputs": [
    {
     "name": "stdout",
     "output_type": "stream",
     "text": [
      "              :                                                               \n",
      "          .CL:CC CC             _Q     _Q  _Q_Q    _Q    _Q              _Q   \n",
      "        CC;CCCCCCCC:C;         /_\\)   /_\\)/_/\\\\)  /_\\)  /_\\)            /_\\)  \n",
      "        CCCCCCCCCCCCCl       __O|/O___O|/O_OO|/O__O|/O__O|/O____________O|/O__\n",
      "     CCCCCCf     iCCCLCC     /////////////////////////////////////////////////\n",
      "     iCCCt  ;;;;;.  CCCC                                                      \n",
      "    CCCC  ;;;;;;;;;. CClL.                          c                         \n",
      "   CCCC ,;;       ;;: CCCC  ;                   : CCCCi                       \n",
      "    CCC ;;         ;;  CC   ;;:                CCC`   `C;                     \n",
      "  lCCC ;;              CCCC  ;;;:             :CC .;;. C;   ;    :   ;  :;;   \n",
      "  CCCC ;.              CCCC    ;;;,           CC ;    ; Ci  ;    :   ;  :  ;  \n",
      "   iCC :;               CC       ;;;,        ;C ;       CC  ;    :   ; .      \n",
      "  CCCi ;;               CCC        ;;;.      .C ;       tf  ;    :   ;  ;.    \n",
      "  CCC  ;;               CCC          ;;;;;;; fC :       lC  ;    :   ;    ;:  \n",
      "   iCf ;;               CC         :;;:      tC ;       CC  ;    :   ;     ;  \n",
      "  fCCC :;              LCCf      ;;;:         LC :.  ,: C   ;    ;   ; ;   ;  \n",
      "  CCCC  ;;             CCCC    ;;;:           CCi `;;` CC.  ;;;; :;.;.  ; ,;  \n",
      "    CCl ;;             CC    ;;;;              CCC    CCL                     \n",
      "   tCCC  ;;        ;; CCCL  ;;;                  tCCCCC.                      \n",
      "    CCCC  ;;     :;; CCCCf  ;                     ,L                          \n",
      "     lCCC   ;;;;;;  CCCL                                                      \n",
      "     CCCCCC  :;;  fCCCCC                                                      \n",
      "      . CCCC     CCCC .                                                       \n",
      "       .CCCCCCCCCCCCCi                                                        \n",
      "          iCCCCCLCf                                                           \n",
      "           .  C. ,                                                            \n",
      "              :                                                               \n",
      "\n",
      "Status: Cyclus run successful!\n",
      "Output location: candu_one_day.sqlite\n",
      "Simulation ID: bbc26fbe-12b8-4b6f-8cf1-088340bc2fb5\n",
      "\n"
     ]
    }
   ],
   "source": [
    "process1 = subprocess.run(['cyclus', infiles[0], '-o', 'candu_one_day.sqlite'], stdout=subprocess.PIPE)\n",
    "\n",
    "#-m cyclus \"candu_one_day.py\"\n",
    "with open('candu_one_day.log', 'w') as f:\n",
    "    print(process1.stdout.decode('utf-8'))\n",
    "    f.write(process1.stdout.decode('utf-8'))"
   ]
  },
  {
   "cell_type": "code",
   "execution_count": 20,
   "metadata": {},
   "outputs": [
    {
     "name": "stdout",
     "output_type": "stream",
     "text": [
      "              :                                                               \n",
      "          .CL:CC CC             _Q     _Q  _Q_Q    _Q    _Q              _Q   \n",
      "        CC;CCCCCCCC:C;         /_\\)   /_\\)/_/\\\\)  /_\\)  /_\\)            /_\\)  \n",
      "        CCCCCCCCCCCCCl       __O|/O___O|/O_OO|/O__O|/O__O|/O____________O|/O__\n",
      "     CCCCCCf     iCCCLCC     /////////////////////////////////////////////////\n",
      "     iCCCt  ;;;;;.  CCCC                                                      \n",
      "    CCCC  ;;;;;;;;;. CClL.                          c                         \n",
      "   CCCC ,;;       ;;: CCCC  ;                   : CCCCi                       \n",
      "    CCC ;;         ;;  CC   ;;:                CCC`   `C;                     \n",
      "  lCCC ;;              CCCC  ;;;:             :CC .;;. C;   ;    :   ;  :;;   \n",
      "  CCCC ;.              CCCC    ;;;,           CC ;    ; Ci  ;    :   ;  :  ;  \n",
      "   iCC :;               CC       ;;;,        ;C ;       CC  ;    :   ; .      \n",
      "  CCCi ;;               CCC        ;;;.      .C ;       tf  ;    :   ;  ;.    \n",
      "  CCC  ;;               CCC          ;;;;;;; fC :       lC  ;    :   ;    ;:  \n",
      "   iCf ;;               CC         :;;:      tC ;       CC  ;    :   ;     ;  \n",
      "  fCCC :;              LCCf      ;;;:         LC :.  ,: C   ;    ;   ; ;   ;  \n",
      "  CCCC  ;;             CCCC    ;;;:           CCi `;;` CC.  ;;;; :;.;.  ; ,;  \n",
      "    CCl ;;             CC    ;;;;              CCC    CCL                     \n",
      "   tCCC  ;;        ;; CCCL  ;;;                  tCCCCC.                      \n",
      "    CCCC  ;;     :;; CCCCf  ;                     ,L                          \n",
      "     lCCC   ;;;;;;  CCCL                                                      \n",
      "     CCCCCC  :;;  fCCCCC                                                      \n",
      "      . CCCC     CCCC .                                                       \n",
      "       .CCCCCCCCCCCCCi                                                        \n",
      "          iCCCCCLCf                                                           \n",
      "           .  C. ,                                                            \n",
      "              :                                                               \n",
      "\n",
      "Status: Cyclus run successful!\n",
      "Output location: candu_one_month.sqlite\n",
      "Simulation ID: c882b4a6-0455-4e51-b284-b6d6955ff3af\n",
      "\n"
     ]
    }
   ],
   "source": [
    "process2 = subprocess.run(['cyclus', infiles[1], '-o', 'candu_one_month.sqlite'], stdout=subprocess.PIPE)\n",
    "\n",
    "with open('candu_one_month.log', 'w') as f:\n",
    "    print(process2.stdout.decode('utf-8'))\n",
    "    f.write(process2.stdout.decode('utf-8'))"
   ]
  },
  {
   "cell_type": "code",
   "execution_count": 21,
   "metadata": {},
   "outputs": [],
   "source": [
    "outfile1 = \"candu_one_day.sqlite\"\n",
    "db = cym.dbopen(outfile1)\n",
    "ev = cym.Evaluator(db=db, write=True)"
   ]
  },
  {
   "cell_type": "code",
   "execution_count": 22,
   "metadata": {},
   "outputs": [
    {
     "data": {
      "image/svg+xml": [
       "<?xml version=\"1.0\" encoding=\"UTF-8\" standalone=\"no\"?>\n",
       "<!DOCTYPE svg PUBLIC \"-//W3C//DTD SVG 1.1//EN\"\n",
       " \"http://www.w3.org/Graphics/SVG/1.1/DTD/svg11.dtd\">\n",
       "<!-- Generated by graphviz version 2.44.1 (20200629.0846)\n",
       " -->\n",
       "<!-- Title: G Pages: 1 -->\n",
       "<svg width=\"321pt\" height=\"218pt\"\n",
       " viewBox=\"0.00 0.00 321.35 218.00\" xmlns=\"http://www.w3.org/2000/svg\" xmlns:xlink=\"http://www.w3.org/1999/xlink\">\n",
       "<g id=\"graph0\" class=\"graph\" transform=\"scale(1 1) rotate(0) translate(4 214)\">\n",
       "<title>G</title>\n",
       "<polygon fill=\"white\" stroke=\"transparent\" points=\"-4,4 -4,-214 317.35,-214 317.35,4 -4,4\"/>\n",
       "<!-- null_region -->\n",
       "<g id=\"node1\" class=\"node\">\n",
       "<title>null_region</title>\n",
       "<ellipse fill=\"none\" stroke=\"black\" cx=\"51.35\" cy=\"-192\" rx=\"51.19\" ry=\"18\"/>\n",
       "<text text-anchor=\"middle\" x=\"51.35\" y=\"-188.3\" font-family=\"Times,serif\" font-size=\"14.00\">null_region</text>\n",
       "</g>\n",
       "<!-- null_inst -->\n",
       "<g id=\"node2\" class=\"node\">\n",
       "<title>null_inst</title>\n",
       "<ellipse fill=\"none\" stroke=\"black\" cx=\"162.35\" cy=\"-192\" rx=\"41.69\" ry=\"18\"/>\n",
       "<text text-anchor=\"middle\" x=\"162.35\" y=\"-188.3\" font-family=\"Times,serif\" font-size=\"14.00\">null_inst</text>\n",
       "</g>\n",
       "<!-- Source -->\n",
       "<g id=\"node3\" class=\"node\">\n",
       "<title>Source</title>\n",
       "<ellipse fill=\"none\" stroke=\"black\" cx=\"257.35\" cy=\"-192\" rx=\"35.19\" ry=\"18\"/>\n",
       "<text text-anchor=\"middle\" x=\"257.35\" y=\"-188.3\" font-family=\"Times,serif\" font-size=\"14.00\">Source</text>\n",
       "</g>\n",
       "<!-- Reactor -->\n",
       "<g id=\"node4\" class=\"node\">\n",
       "<title>Reactor</title>\n",
       "<ellipse fill=\"none\" stroke=\"black\" cx=\"257.35\" cy=\"-105\" rx=\"38.19\" ry=\"18\"/>\n",
       "<text text-anchor=\"middle\" x=\"257.35\" y=\"-101.3\" font-family=\"Times,serif\" font-size=\"14.00\">Reactor</text>\n",
       "</g>\n",
       "<!-- Source&#45;&gt;Reactor -->\n",
       "<g id=\"edge1\" class=\"edge\">\n",
       "<title>Source&#45;&gt;Reactor</title>\n",
       "<path fill=\"none\" stroke=\"black\" d=\"M257.35,-173.8C257.35,-162.16 257.35,-146.55 257.35,-133.24\"/>\n",
       "<polygon fill=\"black\" stroke=\"black\" points=\"260.85,-133.18 257.35,-123.18 253.85,-133.18 260.85,-133.18\"/>\n",
       "<text text-anchor=\"middle\" x=\"285.35\" y=\"-144.8\" font-family=\"Times,serif\" font-size=\"14.00\">3.30e+04 </text>\n",
       "</g>\n",
       "<!-- Sink -->\n",
       "<g id=\"node5\" class=\"node\">\n",
       "<title>Sink</title>\n",
       "<ellipse fill=\"none\" stroke=\"black\" cx=\"257.35\" cy=\"-18\" rx=\"27\" ry=\"18\"/>\n",
       "<text text-anchor=\"middle\" x=\"257.35\" y=\"-14.3\" font-family=\"Times,serif\" font-size=\"14.00\">Sink</text>\n",
       "</g>\n",
       "<!-- Reactor&#45;&gt;Sink -->\n",
       "<g id=\"edge2\" class=\"edge\">\n",
       "<title>Reactor&#45;&gt;Sink</title>\n",
       "<path fill=\"none\" stroke=\"black\" d=\"M257.35,-86.8C257.35,-75.16 257.35,-59.55 257.35,-46.24\"/>\n",
       "<polygon fill=\"black\" stroke=\"black\" points=\"260.85,-46.18 257.35,-36.18 253.85,-46.18 260.85,-46.18\"/>\n",
       "<text text-anchor=\"middle\" x=\"285.35\" y=\"-57.8\" font-family=\"Times,serif\" font-size=\"14.00\">2.31e+04 </text>\n",
       "</g>\n",
       "</g>\n",
       "</svg>\n"
      ],
      "text/plain": [
       "<graphviz.dot.Digraph at 0x11afee198>"
      ]
     },
     "execution_count": 22,
     "metadata": {},
     "output_type": "execute_result"
    }
   ],
   "source": [
    "cym.graphs.flow_graph(ev, label = \"mass\")"
   ]
  },
  {
   "cell_type": "code",
   "execution_count": 23,
   "metadata": {},
   "outputs": [],
   "source": [
    "outfile2 = \"candu_one_month.sqlite\"\n",
    "db2 = cym.dbopen(outfile2)\n",
    "ev2 = cym.Evaluator(db=db2, write=True)"
   ]
  },
  {
   "cell_type": "code",
   "execution_count": 24,
   "metadata": {},
   "outputs": [
    {
     "data": {
      "image/svg+xml": [
       "<?xml version=\"1.0\" encoding=\"UTF-8\" standalone=\"no\"?>\n",
       "<!DOCTYPE svg PUBLIC \"-//W3C//DTD SVG 1.1//EN\"\n",
       " \"http://www.w3.org/Graphics/SVG/1.1/DTD/svg11.dtd\">\n",
       "<!-- Generated by graphviz version 2.44.1 (20200629.0846)\n",
       " -->\n",
       "<!-- Title: G Pages: 1 -->\n",
       "<svg width=\"321pt\" height=\"218pt\"\n",
       " viewBox=\"0.00 0.00 321.35 218.00\" xmlns=\"http://www.w3.org/2000/svg\" xmlns:xlink=\"http://www.w3.org/1999/xlink\">\n",
       "<g id=\"graph0\" class=\"graph\" transform=\"scale(1 1) rotate(0) translate(4 214)\">\n",
       "<title>G</title>\n",
       "<polygon fill=\"white\" stroke=\"transparent\" points=\"-4,4 -4,-214 317.35,-214 317.35,4 -4,4\"/>\n",
       "<!-- null_region -->\n",
       "<g id=\"node1\" class=\"node\">\n",
       "<title>null_region</title>\n",
       "<ellipse fill=\"none\" stroke=\"black\" cx=\"51.35\" cy=\"-192\" rx=\"51.19\" ry=\"18\"/>\n",
       "<text text-anchor=\"middle\" x=\"51.35\" y=\"-188.3\" font-family=\"Times,serif\" font-size=\"14.00\">null_region</text>\n",
       "</g>\n",
       "<!-- null_inst -->\n",
       "<g id=\"node2\" class=\"node\">\n",
       "<title>null_inst</title>\n",
       "<ellipse fill=\"none\" stroke=\"black\" cx=\"162.35\" cy=\"-192\" rx=\"41.69\" ry=\"18\"/>\n",
       "<text text-anchor=\"middle\" x=\"162.35\" y=\"-188.3\" font-family=\"Times,serif\" font-size=\"14.00\">null_inst</text>\n",
       "</g>\n",
       "<!-- Source -->\n",
       "<g id=\"node3\" class=\"node\">\n",
       "<title>Source</title>\n",
       "<ellipse fill=\"none\" stroke=\"black\" cx=\"257.35\" cy=\"-192\" rx=\"35.19\" ry=\"18\"/>\n",
       "<text text-anchor=\"middle\" x=\"257.35\" y=\"-188.3\" font-family=\"Times,serif\" font-size=\"14.00\">Source</text>\n",
       "</g>\n",
       "<!-- Reactor -->\n",
       "<g id=\"node4\" class=\"node\">\n",
       "<title>Reactor</title>\n",
       "<ellipse fill=\"none\" stroke=\"black\" cx=\"257.35\" cy=\"-105\" rx=\"38.19\" ry=\"18\"/>\n",
       "<text text-anchor=\"middle\" x=\"257.35\" y=\"-101.3\" font-family=\"Times,serif\" font-size=\"14.00\">Reactor</text>\n",
       "</g>\n",
       "<!-- Source&#45;&gt;Reactor -->\n",
       "<g id=\"edge1\" class=\"edge\">\n",
       "<title>Source&#45;&gt;Reactor</title>\n",
       "<path fill=\"none\" stroke=\"black\" d=\"M257.35,-173.8C257.35,-162.16 257.35,-146.55 257.35,-133.24\"/>\n",
       "<polygon fill=\"black\" stroke=\"black\" points=\"260.85,-133.18 257.35,-123.18 253.85,-133.18 260.85,-133.18\"/>\n",
       "<text text-anchor=\"middle\" x=\"285.35\" y=\"-144.8\" font-family=\"Times,serif\" font-size=\"14.00\">3.30e+04 </text>\n",
       "</g>\n",
       "<!-- Sink -->\n",
       "<g id=\"node5\" class=\"node\">\n",
       "<title>Sink</title>\n",
       "<ellipse fill=\"none\" stroke=\"black\" cx=\"257.35\" cy=\"-18\" rx=\"27\" ry=\"18\"/>\n",
       "<text text-anchor=\"middle\" x=\"257.35\" y=\"-14.3\" font-family=\"Times,serif\" font-size=\"14.00\">Sink</text>\n",
       "</g>\n",
       "<!-- Reactor&#45;&gt;Sink -->\n",
       "<g id=\"edge2\" class=\"edge\">\n",
       "<title>Reactor&#45;&gt;Sink</title>\n",
       "<path fill=\"none\" stroke=\"black\" d=\"M257.35,-86.8C257.35,-75.16 257.35,-59.55 257.35,-46.24\"/>\n",
       "<polygon fill=\"black\" stroke=\"black\" points=\"260.85,-46.18 257.35,-36.18 253.85,-46.18 260.85,-46.18\"/>\n",
       "<text text-anchor=\"middle\" x=\"285.35\" y=\"-57.8\" font-family=\"Times,serif\" font-size=\"14.00\">2.31e+04 </text>\n",
       "</g>\n",
       "</g>\n",
       "</svg>\n"
      ],
      "text/plain": [
       "<graphviz.dot.Digraph at 0x119ff8ac8>"
      ]
     },
     "execution_count": 24,
     "metadata": {},
     "output_type": "execute_result"
    }
   ],
   "source": [
    "cym.graphs.flow_graph(ev2, label = \"mass\")"
   ]
  },
  {
   "cell_type": "code",
   "execution_count": 29,
   "metadata": {},
   "outputs": [],
   "source": [
    "outfile3 = \"candu_six_weeks.sqlite\"\n",
    "db3 = cym.dbopen(outfile3)\n",
    "ev3 = cym.Evaluator(db=db3, write=True)"
   ]
  },
  {
   "cell_type": "code",
   "execution_count": 30,
   "metadata": {},
   "outputs": [
    {
     "data": {
      "image/svg+xml": [
       "<?xml version=\"1.0\" encoding=\"UTF-8\" standalone=\"no\"?>\n",
       "<!DOCTYPE svg PUBLIC \"-//W3C//DTD SVG 1.1//EN\"\n",
       " \"http://www.w3.org/Graphics/SVG/1.1/DTD/svg11.dtd\">\n",
       "<!-- Generated by graphviz version 2.44.1 (20200629.0846)\n",
       " -->\n",
       "<!-- Title: G Pages: 1 -->\n",
       "<svg width=\"321pt\" height=\"218pt\"\n",
       " viewBox=\"0.00 0.00 321.35 218.00\" xmlns=\"http://www.w3.org/2000/svg\" xmlns:xlink=\"http://www.w3.org/1999/xlink\">\n",
       "<g id=\"graph0\" class=\"graph\" transform=\"scale(1 1) rotate(0) translate(4 214)\">\n",
       "<title>G</title>\n",
       "<polygon fill=\"white\" stroke=\"transparent\" points=\"-4,4 -4,-214 317.35,-214 317.35,4 -4,4\"/>\n",
       "<!-- null_region -->\n",
       "<g id=\"node1\" class=\"node\">\n",
       "<title>null_region</title>\n",
       "<ellipse fill=\"none\" stroke=\"black\" cx=\"51.35\" cy=\"-192\" rx=\"51.19\" ry=\"18\"/>\n",
       "<text text-anchor=\"middle\" x=\"51.35\" y=\"-188.3\" font-family=\"Times,serif\" font-size=\"14.00\">null_region</text>\n",
       "</g>\n",
       "<!-- null_inst -->\n",
       "<g id=\"node2\" class=\"node\">\n",
       "<title>null_inst</title>\n",
       "<ellipse fill=\"none\" stroke=\"black\" cx=\"162.35\" cy=\"-192\" rx=\"41.69\" ry=\"18\"/>\n",
       "<text text-anchor=\"middle\" x=\"162.35\" y=\"-188.3\" font-family=\"Times,serif\" font-size=\"14.00\">null_inst</text>\n",
       "</g>\n",
       "<!-- Source -->\n",
       "<g id=\"node3\" class=\"node\">\n",
       "<title>Source</title>\n",
       "<ellipse fill=\"none\" stroke=\"black\" cx=\"257.35\" cy=\"-192\" rx=\"35.19\" ry=\"18\"/>\n",
       "<text text-anchor=\"middle\" x=\"257.35\" y=\"-188.3\" font-family=\"Times,serif\" font-size=\"14.00\">Source</text>\n",
       "</g>\n",
       "<!-- Reactor -->\n",
       "<g id=\"node4\" class=\"node\">\n",
       "<title>Reactor</title>\n",
       "<ellipse fill=\"none\" stroke=\"black\" cx=\"257.35\" cy=\"-105\" rx=\"38.19\" ry=\"18\"/>\n",
       "<text text-anchor=\"middle\" x=\"257.35\" y=\"-101.3\" font-family=\"Times,serif\" font-size=\"14.00\">Reactor</text>\n",
       "</g>\n",
       "<!-- Source&#45;&gt;Reactor -->\n",
       "<g id=\"edge1\" class=\"edge\">\n",
       "<title>Source&#45;&gt;Reactor</title>\n",
       "<path fill=\"none\" stroke=\"black\" d=\"M257.35,-173.8C257.35,-162.16 257.35,-146.55 257.35,-133.24\"/>\n",
       "<polygon fill=\"black\" stroke=\"black\" points=\"260.85,-133.18 257.35,-123.18 253.85,-133.18 260.85,-133.18\"/>\n",
       "<text text-anchor=\"middle\" x=\"285.35\" y=\"-144.8\" font-family=\"Times,serif\" font-size=\"14.00\">3.30e+04 </text>\n",
       "</g>\n",
       "<!-- Sink -->\n",
       "<g id=\"node5\" class=\"node\">\n",
       "<title>Sink</title>\n",
       "<ellipse fill=\"none\" stroke=\"black\" cx=\"257.35\" cy=\"-18\" rx=\"27\" ry=\"18\"/>\n",
       "<text text-anchor=\"middle\" x=\"257.35\" y=\"-14.3\" font-family=\"Times,serif\" font-size=\"14.00\">Sink</text>\n",
       "</g>\n",
       "<!-- Reactor&#45;&gt;Sink -->\n",
       "<g id=\"edge2\" class=\"edge\">\n",
       "<title>Reactor&#45;&gt;Sink</title>\n",
       "<path fill=\"none\" stroke=\"black\" d=\"M257.35,-86.8C257.35,-75.16 257.35,-59.55 257.35,-46.24\"/>\n",
       "<polygon fill=\"black\" stroke=\"black\" points=\"260.85,-46.18 257.35,-36.18 253.85,-46.18 260.85,-46.18\"/>\n",
       "<text text-anchor=\"middle\" x=\"285.35\" y=\"-57.8\" font-family=\"Times,serif\" font-size=\"14.00\">2.31e+04 </text>\n",
       "</g>\n",
       "</g>\n",
       "</svg>\n"
      ],
      "text/plain": [
       "<graphviz.dot.Digraph at 0x11af73128>"
      ]
     },
     "execution_count": 30,
     "metadata": {},
     "output_type": "execute_result"
    }
   ],
   "source": [
    "cym.graphs.flow_graph(ev3, label = \"mass\")"
   ]
  },
  {
   "cell_type": "code",
   "execution_count": null,
   "metadata": {},
   "outputs": [],
   "source": []
  },
  {
   "cell_type": "code",
   "execution_count": 36,
   "metadata": {},
   "outputs": [],
   "source": [
    "day_quantities = []\n",
    "for i in range(4320): \n",
    "    subset = ev.eval(\"ExplicitInventory\", conds = [(\"Time\", \"==\", i)])\n",
    "    day_quantities.append(sum(subset[\"Quantity\"]))\n",
    "\n",
    "month_quantities = []\n",
    "for i in range(144):\n",
    "    subset = ev2.eval(\"ExplicitInventory\", conds = [(\"Time\", \"==\", i)])\n",
    "    month_quantities.append(sum(subset[\"Quantity\"]))\n",
    "    \n",
    "six_week_quantities = []\n",
    "for i in range(96):\n",
    "    subset = ev3.eval(\"ExplicitInventory\", conds = [(\"Time\", \"==\", i)])\n",
    "    six_week_quantities.append(sum(subset[\"Quantity\"]))"
   ]
  },
  {
   "cell_type": "code",
   "execution_count": 37,
   "metadata": {},
   "outputs": [
    {
     "data": {
      "image/png": "[encoded data removed]",
      "text/plain": [
       "<Figure size 720x576 with 2 Axes>"
      ]
     },
     "metadata": {
      "needs_background": "light"
     },
     "output_type": "display_data"
    }
   ],
   "source": [
    "fig, ax1 = plt.subplots(figsize = (10,8))\n",
    "\n",
    "ax1.plot(range(144), month_quantities, color = \"b\", linewidth = 2.0, label = \"dt = one month\")\n",
    "#ax1.plot(range(144), unscaled_quantities, color = \"y\", linewidth = 2.0, label = \"cycle time = 17\")\n",
    "ax1.set_xlabel(\"time (months)\")\n",
    "ax1.set_ylabel(\"material (kg)\")\n",
    "ax1.legend(loc = \"upper left\")\n",
    "\n",
    "ax2 = ax1.twiny()\n",
    "ax2.plot(range(4320), day_quantities, color = \"r\", linewidth = 1.0, label = \"dt = one day\")\n",
    "ax2.set_xlabel(\"time (days)\")\n",
    "\n",
    "plt.title(\"Cumulative Cyclus simulation inventory\")\n",
    "plt.legend(loc='lower right') \n",
    "\n",
    "plt.show()"
   ]
  },
  {
   "cell_type": "code",
   "execution_count": 38,
   "metadata": {},
   "outputs": [
    {
     "data": {
      "image/png": "[encoded data removed]",
      "text/plain": [
       "<Figure size 720x576 with 2 Axes>"
      ]
     },
     "metadata": {
      "needs_background": "light"
     },
     "output_type": "display_data"
    }
   ],
   "source": [
    "fig, ax1 = plt.subplots(figsize = (10,8))\n",
    "\n",
    "ax1.plot(range(144), month_quantities, color = \"b\", linewidth = 2.0, label = \"dt = one month\")\n",
    "ax1.set_xlabel(\"time (months)\")\n",
    "ax1.set_ylabel(\"material (kg)\")\n",
    "ax1.legend(loc = \"upper left\")\n",
    "\n",
    "ax2 = ax1.twiny()\n",
    "ax2.plot(range(96), six_week_quantities, color = \"r\", linewidth = 1.0, label = \"dt = 1.5 months\")\n",
    "ax2.set_xlabel(\"time (1.5 months)\")\n",
    "\n",
    "plt.title(\"Cumulative Cyclus simulation inventory\")\n",
    "plt.legend(loc='lower right') \n",
    "\n",
    "plt.show()"
   ]
  },
  {
   "cell_type": "code",
   "execution_count": null,
   "metadata": {},
   "outputs": [],
   "source": []
  }
 ],
 "metadata": {
  "kernelspec": {
   "display_name": "Python 3",
   "language": "python",
   "name": "python3"
  },
  "language_info": {
   "codemirror_mode": {
    "name": "ipython",
    "version": 3
   },
   "file_extension": ".py",
   "mimetype": "text/x-python",
   "name": "python",
   "nbconvert_exporter": "python",
   "pygments_lexer": "ipython3",
   "version": "3.6.9"
  }
 },
 "nbformat": 4,
 "nbformat_minor": 2
}
