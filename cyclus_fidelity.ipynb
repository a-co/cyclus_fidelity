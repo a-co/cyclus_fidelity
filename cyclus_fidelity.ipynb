{
 "cells": [
  {
   "cell_type": "markdown",
   "metadata": {},
   "source": [
    "# Cyclus parameter fidelity assessment tool"
   ]
  },
  {
   "cell_type": "markdown",
   "metadata": {},
   "source": [
    "This tool is designed to help users understand the behavior of Cyclus archetypes."
   ]
  },
  {
   "cell_type": "code",
   "execution_count": 1,
   "metadata": {},
   "outputs": [],
   "source": [
    "import subprocess"
   ]
  },
  {
   "cell_type": "code",
   "execution_count": 2,
   "metadata": {},
   "outputs": [
    {
     "ename": "ModuleNotFoundError",
     "evalue": "No module named 'pandas'",
     "output_type": "error",
     "traceback": [
      "\u001b[0;31m---------------------------------------------------------------------------\u001b[0m",
      "\u001b[0;31mModuleNotFoundError\u001b[0m                       Traceback (most recent call last)",
      "\u001b[0;32m<ipython-input-2-c8b52665b99f>\u001b[0m in \u001b[0;36m<module>\u001b[0;34m\u001b[0m\n\u001b[1;32m      1\u001b[0m \u001b[0;31m#import cymetric as cym\u001b[0m\u001b[0;34m\u001b[0m\u001b[0;34m\u001b[0m\u001b[0;34m\u001b[0m\u001b[0m\n\u001b[0;32m----> 2\u001b[0;31m \u001b[0;32mimport\u001b[0m \u001b[0mpandas\u001b[0m \u001b[0;32mas\u001b[0m \u001b[0mpd\u001b[0m\u001b[0;34m\u001b[0m\u001b[0;34m\u001b[0m\u001b[0m\n\u001b[0m\u001b[1;32m      3\u001b[0m \u001b[0;32mimport\u001b[0m \u001b[0mnumpy\u001b[0m \u001b[0;32mas\u001b[0m \u001b[0mnp\u001b[0m\u001b[0;34m\u001b[0m\u001b[0;34m\u001b[0m\u001b[0m\n\u001b[1;32m      4\u001b[0m \u001b[0;32mimport\u001b[0m \u001b[0mmatplotlib\u001b[0m\u001b[0;34m.\u001b[0m\u001b[0mpyplot\u001b[0m \u001b[0;32mas\u001b[0m \u001b[0mplt\u001b[0m\u001b[0;34m\u001b[0m\u001b[0;34m\u001b[0m\u001b[0m\n",
      "\u001b[0;31mModuleNotFoundError\u001b[0m: No module named 'pandas'"
     ]
    }
   ],
   "source": [
    "#import cymetric as cym\n",
    "import pandas as pd\n",
    "import numpy as np\n",
    "import matplotlib.pyplot as plt"
   ]
  },
  {
   "cell_type": "code",
   "execution_count": null,
   "metadata": {},
   "outputs": [],
   "source": [
    "plt.rcParams['figure.figsize'] = (40,24)"
   ]
  },
  {
   "cell_type": "code",
   "execution_count": null,
   "metadata": {},
   "outputs": [],
   "source": [
    "from cymetric import graphs as cgr\n",
    "from cymetric import timeseries as tm\n",
    "from cymetric import filters as fl"
   ]
  },
  {
   "cell_type": "code",
   "execution_count": null,
   "metadata": {},
   "outputs": [],
   "source": [
    "import cyclus"
   ]
  },
  {
   "cell_type": "code",
   "execution_count": 1,
   "metadata": {},
   "outputs": [
    {
     "ename": "SyntaxError",
     "evalue": "invalid syntax (<ipython-input-1-9868dd3fe39d>, line 2)",
     "output_type": "error",
     "traceback": [
      "\u001b[0;36m  File \u001b[0;32m\"<ipython-input-1-9868dd3fe39d>\"\u001b[0;36m, line \u001b[0;32m2\u001b[0m\n\u001b[0;31m    cyclus.lib.\u001b[0m\n\u001b[0m               ^\u001b[0m\n\u001b[0;31mSyntaxError\u001b[0m\u001b[0;31m:\u001b[0m invalid syntax\n"
     ]
    }
   ],
   "source": [
    "print(cyclus.__file__)\n",
    "cyclus.lib."
   ]
  },
  {
   "cell_type": "markdown",
   "metadata": {},
   "source": [
    "Enter two file paths to compare: \n",
    "(expand this later?)"
   ]
  },
  {
   "cell_type": "code",
   "execution_count": 1,
   "metadata": {},
   "outputs": [],
   "source": [
    "infile1 = \"candu_one_day.py\"\n",
    "infile2 = \"candu_one_month.py\""
   ]
  },
  {
   "cell_type": "code",
   "execution_count": 2,
   "metadata": {},
   "outputs": [
    {
     "ename": "SyntaxError",
     "evalue": "invalid syntax (<ipython-input-2-ac9d9921343e>, line 3)",
     "output_type": "error",
     "traceback": [
      "\u001b[0;36m  File \u001b[0;32m\"<ipython-input-2-ac9d9921343e>\"\u001b[0;36m, line \u001b[0;32m3\u001b[0m\n\u001b[0;31m    -m cyclus \"candu_one_day.py\"\u001b[0m\n\u001b[0m       ^\u001b[0m\n\u001b[0;31mSyntaxError\u001b[0m\u001b[0;31m:\u001b[0m invalid syntax\n"
     ]
    }
   ],
   "source": [
    "process1 = subprocess.run(['cyclus', infile1, '-o', 'candu_one_day2.sqlite'], stdout=subprocess.PIPE)\n",
    "\n",
    "-m cyclus \"candu_one_day.py\"\n",
    "# with open('candu_one_day.log', 'w') as f:\n",
    "#     print(process1.stdout.decode('utf-8'))\n",
    "#     f.write(process1.stdout.decode('utf-8'))"
   ]
  },
  {
   "cell_type": "code",
   "execution_count": null,
   "metadata": {
    "collapsed": true
   },
   "outputs": [],
   "source": [
    "#process2 = subprocess.run(['cyclus', infile2, '-o', 'candu_one_month.sqlite'], stdout=subprocess.PIPE)\n",
    "\n",
    "# with open('candu_one_month.log', 'w') as f:\n",
    "#     print(process2.stdout.decode('utf-8'))\n",
    "#     f.write(process2.stdout.decode('utf-8'))"
   ]
  },
  {
   "cell_type": "code",
   "execution_count": null,
   "metadata": {
    "collapsed": true
   },
   "outputs": [],
   "source": [
    "outfile1 = \"candu_one_day.sqlite\"\n",
    "db = cym.dbopen(outfile1)\n",
    "ev = cym.Evaluator(db=db, write=True)"
   ]
  },
  {
   "cell_type": "code",
   "execution_count": null,
   "metadata": {
    "collapsed": true
   },
   "outputs": [],
   "source": [
    "cym.graphs.flow_graph(ev, label = \"mass\")"
   ]
  },
  {
   "cell_type": "code",
   "execution_count": null,
   "metadata": {
    "collapsed": true
   },
   "outputs": [],
   "source": [
    "outfile2 = \"candu_one_month.sqlite\"\n",
    "db2 = cym.dbopen(outfile2)\n",
    "ev2 = cym.Evaluator(db=db2, write=True)"
   ]
  },
  {
   "cell_type": "code",
   "execution_count": null,
   "metadata": {
    "collapsed": true
   },
   "outputs": [],
   "source": [
    "cym.graphs.flow_graph(ev2, label = \"mass\")"
   ]
  },
  {
   "cell_type": "code",
   "execution_count": null,
   "metadata": {
    "collapsed": true
   },
   "outputs": [],
   "source": [
    "outfile3 = \"candu_unscaled.sqlite\"\n",
    "db3 = cym.dbopen(outfile3)\n",
    "ev3 = cym.Evaluator(db=db3, write=True)"
   ]
  },
  {
   "cell_type": "code",
   "execution_count": null,
   "metadata": {
    "collapsed": true
   },
   "outputs": [],
   "source": [
    "cym.graphs.flow_graph(ev3, label = \"mass\")"
   ]
  },
  {
   "cell_type": "code",
   "execution_count": null,
   "metadata": {
    "collapsed": true
   },
   "outputs": [],
   "source": []
  },
  {
   "cell_type": "code",
   "execution_count": null,
   "metadata": {
    "collapsed": true
   },
   "outputs": [],
   "source": [
    "day_quantities = []\n",
    "for i in range(4320): \n",
    "    subset = ev.eval(\"ExplicitInventory\", conds = [(\"Time\", \"==\", i)])\n",
    "    day_quantities.append(sum(subset[\"Quantity\"]))\n",
    "\n",
    "month_quantities = []\n",
    "for i in range(144):\n",
    "    subset = ev2.eval(\"ExplicitInventory\", conds = [(\"Time\", \"==\", i)])\n",
    "    month_quantities.append(sum(subset[\"Quantity\"]))\n",
    "    \n",
    "unscaled_quantities = []\n",
    "for i in range(144):\n",
    "    subset = ev3.eval(\"ExplicitInventory\", conds = [(\"Time\", \"==\", i)])\n",
    "    unscaled_quantities.append(sum(subset[\"Quantity\"]))"
   ]
  },
  {
   "cell_type": "code",
   "execution_count": null,
   "metadata": {
    "collapsed": true
   },
   "outputs": [],
   "source": [
    "fig, ax1 = plt.subplots(figsize = (10,8))\n",
    "\n",
    "ax1.plot(range(144), month_quantities, color = \"b\", linewidth = 2.0, label = \"dt = one month\")\n",
    "ax1.plot(range(144), unscaled_quantities, color = \"y\", linewidth = 2.0, label = \"cycle time = 17\")\n",
    "ax1.set_xlabel(\"time (months)\")\n",
    "ax1.set_ylabel(\"material (kg)\")\n",
    "ax1.legend(loc = \"upper left\")\n",
    "\n",
    "ax2 = ax1.twiny()\n",
    "ax2.plot(range(4320), day_quantities, color = \"r\", linewidth = 1.0, label = \"dt = one day\")\n",
    "ax2.set_xlabel(\"time (days)\")\n",
    "\n",
    "plt.title(\"Cumulative Cyclus simulation inventory\")\n",
    "plt.legend(loc='lower right') \n",
    "\n",
    "plt.show()"
   ]
  },
  {
   "cell_type": "code",
   "execution_count": null,
   "metadata": {
    "collapsed": true
   },
   "outputs": [],
   "source": []
  }
 ],
 "metadata": {
  "kernelspec": {
   "display_name": "Python 3",
   "language": "python",
   "name": "python3"
  },
  "language_info": {
   "codemirror_mode": {
    "name": "ipython",
    "version": 3
   },
   "file_extension": ".py",
   "mimetype": "text/x-python",
   "name": "python",
   "nbconvert_exporter": "python",
   "pygments_lexer": "ipython3",
   "version": "3.9.0"
  }
 },
 "nbformat": 4,
 "nbformat_minor": 2
}
